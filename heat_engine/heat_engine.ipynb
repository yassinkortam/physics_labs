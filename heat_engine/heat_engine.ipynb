{
 "cells": [
  {
   "cell_type": "code",
   "execution_count": 11,
   "metadata": {},
   "outputs": [],
   "source": [
    "import pandas as pd\n",
    "import matplotlib as plt\n",
    "\n",
    "AREA = 8.32131E-4"
   ]
  },
  {
   "cell_type": "markdown",
   "metadata": {},
   "source": [
    "setCoordinates converts pandas dataframes to correctly formatted arrays, and to convert entry units to SI \n",
    "polygonArea uses the shoelace algorithm to compute the area of the polygon (finds the work)"
   ]
  },
  {
   "cell_type": "code",
   "execution_count": 28,
   "metadata": {},
   "outputs": [],
   "source": [
    "def setCoordinates(trial):\n",
    "  poly = []\n",
    "  x = trial[\"Position (m)\"]\n",
    "  y = trial[\"Absolute Pressure (kPa)\"]\n",
    "\n",
    "  for i in range(len(x)):\n",
    "    #i = len(x) - i - 1\n",
    "    poly.append([x[i]*1E3,y[i]*AREA])\n",
    "  \n",
    "  return poly\n",
    "        \n",
    "def polygonArea(vertices):\n",
    "  #A function to apply the Shoelace algorithm\n",
    "  numberOfVertices = len(vertices)\n",
    "\n",
    "  sum1 = 0\n",
    "  sum2 = 0\n",
    "  \n",
    "  for i in range(0,numberOfVertices-1):\n",
    "    sum1 = sum1 + vertices[i][0] *  vertices[i+1][1]\n",
    "    sum2 = sum2 + vertices[i][1] *  vertices[i+1][0]\n",
    "  \n",
    "  #Add xn.y1\n",
    "  sum1 = sum1 + vertices[numberOfVertices-1][0]*vertices[0][1]   \n",
    "  #Add x1.yn\n",
    "  sum2 = sum2 + vertices[0][0]*vertices[numberOfVertices-1][1]   \n",
    "  \n",
    "  area = abs(sum1 - sum2) / 2\n",
    "  return area"
   ]
  },
  {
   "cell_type": "markdown",
   "metadata": {},
   "source": [
    "Main program body (functions above used to generate desired output)"
   ]
  },
  {
   "cell_type": "code",
   "execution_count": 32,
   "metadata": {},
   "outputs": [
    {
     "name": "stdout",
     "output_type": "stream",
     "text": [
      "Trial 1:  4.87 J\n",
      "Trial 2:  4.56 J\n",
      "Trial 3:  4.67 J\n"
     ]
    }
   ],
   "source": [
    "trial1 = pd.read_csv(\"trial1.csv\")\n",
    "trial2 = pd.read_csv(\"trial2.csv\")\n",
    "trial3 = pd.read_csv(\"trial3.csv\")\n",
    "\n",
    "poly1 = setCoordinates(trial1)\n",
    "poly2 = setCoordinates(trial2)\n",
    "poly3 = setCoordinates(trial3)\n",
    "\n",
    "work1 = polygonArea(poly1)\n",
    "work2 = polygonArea(poly2)\n",
    "work3 = polygonArea(poly3)\n",
    "\n",
    "print(\"Trial 1: \",round(work1*100)/100.,\"J\")\n",
    "print(\"Trial 2: \",round(work2*100)/100.,\"J\")\n",
    "print(\"Trial 3: \",round(work3*100)/100.,\"J\")"
   ]
  }
 ],
 "metadata": {
  "interpreter": {
   "hash": "aee8b7b246df8f9039afb4144a1f6fd8d2ca17a180786b69acc140d282b71a49"
  },
  "kernelspec": {
   "display_name": "Python 3.9.2 64-bit",
   "language": "python",
   "name": "python3"
  },
  "language_info": {
   "codemirror_mode": {
    "name": "ipython",
    "version": 3
   },
   "file_extension": ".py",
   "mimetype": "text/x-python",
   "name": "python",
   "nbconvert_exporter": "python",
   "pygments_lexer": "ipython3",
   "version": "3.9.2"
  },
  "orig_nbformat": 4
 },
 "nbformat": 4,
 "nbformat_minor": 2
}
